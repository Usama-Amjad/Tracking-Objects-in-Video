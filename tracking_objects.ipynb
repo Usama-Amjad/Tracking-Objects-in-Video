{
  "cells": [
    {
      "cell_type": "markdown",
      "metadata": {
        "id": "Oe47EXKFZ4vX"
      },
      "source": [
        "Tracking Objects in Video with Particle Filters\n",
        "==============================================="
      ]
    },
    {
      "cell_type": "markdown",
      "metadata": {
        "id": "BlzHhNs7Z4va"
      },
      "source": [
        "Import libraries"
      ]
    },
    {
      "cell_type": "code",
      "execution_count": 23,
      "metadata": {
        "id": "k97P91zKZ4vb"
      },
      "outputs": [],
      "source": [
        "import numpy as np\n",
        "from google.colab.patches import cv2_imshow\n",
        "import cv2\n",
        "\n",
        "# Repeatability\n",
        "np.random.seed(0)\n",
        "\n",
        "VFILENAME = \"walking.mp4\"\n",
        "HEIGHT = 406\n",
        "WIDTH = 722"
      ]
    },
    {
      "cell_type": "markdown",
      "metadata": {
        "id": "jOH8RyEbZ4vc"
      },
      "source": [
        "Load video frames from file"
      ]
    },
    {
      "cell_type": "code",
      "execution_count": 24,
      "metadata": {
        "id": "o-m-UmptZ4vc"
      },
      "outputs": [],
      "source": [
        "def get_frames(filename):\n",
        "  video=cv2.VideoCapture(filename)\n",
        "  \n",
        "  while video.isOpened():\n",
        "    # returning a flag and frame \n",
        "    ret,frame=video.read()\n",
        "    if ret:\n",
        "      yield frame\n",
        "    else:\n",
        "      break\n",
        "  \n",
        "  # Releasing the resources\n",
        "  video.release()\n",
        "  yield None"
      ]
    },
    {
      "cell_type": "markdown",
      "metadata": {
        "id": "Sn2QtRRdZ4vc"
      },
      "source": [
        "Creating a particle cloud"
      ]
    },
    {
      "cell_type": "code",
      "execution_count": 25,
      "metadata": {
        "id": "WUhSbUQ9Z4vc"
      },
      "outputs": [],
      "source": [
        "NUM_PARTICLES = 5000\n",
        "VEL_RANGE = 0.5\n",
        "\n",
        "def initialize_particles():\n",
        "  particles=np.random.rand(NUM_PARTICLES,4)\n",
        "  particles=particles*np.array((WIDTH,HEIGHT,VEL_RANGE,VEL_RANGE))\n",
        "  particles[:,:2,:4] -= VEL_RANGE/2.0 "
      ]
    },
    {
      "cell_type": "markdown",
      "metadata": {
        "id": "Qus79-OLZ4vc"
      },
      "source": [
        "Moving particles according to their velocity state"
      ]
    },
    {
      "cell_type": "code",
      "execution_count": 26,
      "metadata": {
        "id": "_J-PYAmxZ4vd"
      },
      "outputs": [],
      "source": [
        "def apply_velocity(particles):\n",
        "  partcles[:,0] += particles[:,2]\n",
        "  partcles[:,1] += particles[:,3]\n",
        "    return particles"
      ]
    },
    {
      "cell_type": "markdown",
      "metadata": {
        "id": "DSUIkm9-Z4vd"
      },
      "source": [
        "Prevent particles from falling off the edge of the video frame"
      ]
    },
    {
      "cell_type": "code",
      "execution_count": 27,
      "metadata": {
        "id": "bAZWpPAFZ4vd"
      },
      "outputs": [],
      "source": [
        "def enforce_edges(particles):\n",
        "\n",
        "  for i in range(NUM_PARTICLES):\n",
        "    particles[i,0]=max(0,min(WIDTH-1,particles[i,0]))\n",
        "    particles[i,1]=max(0,min(HEIGHT-1,particles[i,1]))\n",
        "\n",
        "    return particles"
      ]
    },
    {
      "cell_type": "markdown",
      "metadata": {
        "id": "QJwoSpTJZ4ve"
      },
      "source": [
        "Measure each particle's quality"
      ]
    },
    {
      "cell_type": "code",
      "execution_count": 28,
      "metadata": {
        "id": "t1LsqCTNZ4ve"
      },
      "outputs": [],
      "source": [
        "TARGET_COLOUR=np.array((156,74,38))\n",
        "\n",
        "def compute_errors(particles, frame):\n",
        "  errors=np.zeros(NUM_PARTICLES)\n",
        "  for i in range(NUM_PARTICLES):\n",
        "    x = int(particles[i,0])\n",
        "    y = int(particles[i,1])\n",
        "    pixel_colour=frame[y,x,:]\n",
        "    errors[i]=np.sum((TARGET_COLOUR-pixel_colour)**2)\n",
        "\n",
        "    return errors"
      ]
    },
    {
      "cell_type": "markdown",
      "metadata": {
        "id": "un5sUGXhZ4ve"
      },
      "source": [
        "Assign weights to the particles based on their quality of match"
      ]
    },
    {
      "cell_type": "code",
      "execution_count": 29,
      "metadata": {
        "id": "-eV9X67zZ4ve"
      },
      "outputs": [],
      "source": [
        "def compute_weights(errors):\n",
        "    return []"
      ]
    },
    {
      "cell_type": "markdown",
      "metadata": {
        "id": "GClPfhHTZ4ve"
      },
      "source": [
        "Resample particles according to their weights"
      ]
    },
    {
      "cell_type": "code",
      "execution_count": 30,
      "metadata": {
        "id": "A2D0c9dNZ4vf"
      },
      "outputs": [],
      "source": [
        "def resample(particles, weights):\n",
        "    return particles, []"
      ]
    },
    {
      "cell_type": "markdown",
      "metadata": {
        "id": "Y__l7DG2Z4vf"
      },
      "source": [
        "Fuzz the particles"
      ]
    },
    {
      "cell_type": "code",
      "execution_count": 31,
      "metadata": {
        "id": "G8zkfV2-Z4vf"
      },
      "outputs": [],
      "source": [
        "def apply_noise(particles):\n",
        "    return particles"
      ]
    },
    {
      "cell_type": "markdown",
      "metadata": {
        "id": "Mijc0JfLZ4vf"
      },
      "source": [
        "Display the video frames"
      ]
    },
    {
      "cell_type": "code",
      "execution_count": 32,
      "metadata": {
        "id": "1ov5Dd81Z4vf"
      },
      "outputs": [],
      "source": [
        "from google.colab.patches import cv2_imshow\n",
        "def display(frame, particles, location):\n",
        "\n",
        "    if len(particles) > 0:\n",
        "      for i in range(NUM_PARTICLES):\n",
        "        x = int(particles[i,0])\n",
        "        y = int(particles[i,1])\n",
        "        cv2.circle(frame, (x,y), 1, (0,255,0), 1)\n",
        "    \n",
        "    if len(location) > 0:\n",
        "      cv2.circle(frame , location , 5 , (0,0,255) ,5 )\n",
        "    \n",
        "    cv2_imshow(frame)\n",
        "\n",
        "    if cv2.waitKey(30) == 27:\n",
        "      if cv2.waitKey(0) == 27:\n",
        "        return True\n",
        "\n",
        "    return False"
      ]
    },
    {
      "cell_type": "markdown",
      "metadata": {
        "id": "NwKkBL7TZ4vg"
      },
      "source": [
        "Main routine"
      ]
    },
    {
      "cell_type": "code",
      "execution_count": null,
      "metadata": {
        "id": "MNuMynnjZ4vg"
      },
      "outputs": [],
      "source": [
        "particles = initialize_particles()\n",
        "\n",
        "for frame in get_frames(VFILENAME):\n",
        "    if frame is None: break\n",
        "\n",
        "    particles = apply_velocity(particles)\n",
        "    particles = enforce_edges(particles)\n",
        "    errors = compute_errors(particles, frame)\n",
        "    weights = compute_weights(errors)\n",
        "    particles, location = resample(particles, weights)\n",
        "    particles = apply_noise(particles)\n",
        "    terminate = display(frame, particles, location)\n",
        "    if terminate:\n",
        "        break\n",
        "cv2.destroyAllWindows()\n"
      ]
    },
    {
      "cell_type": "code",
      "execution_count": 33,
      "metadata": {
        "id": "1G00zXbfZ4vg"
      },
      "outputs": [],
      "source": []
    }
  ],
  "metadata": {
    "kernelspec": {
      "display_name": "Python 3",
      "language": "python",
      "name": "python3"
    },
    "language_info": {
      "codemirror_mode": {
        "name": "ipython",
        "version": 3
      },
      "file_extension": ".py",
      "mimetype": "text/x-python",
      "name": "python",
      "nbconvert_exporter": "python",
      "pygments_lexer": "ipython3",
      "version": "3.6.9"
    },
    "colab": {
      "provenance": []
    }
  },
  "nbformat": 4,
  "nbformat_minor": 0
}