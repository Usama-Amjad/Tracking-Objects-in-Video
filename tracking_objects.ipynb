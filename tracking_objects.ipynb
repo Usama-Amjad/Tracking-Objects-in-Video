{
  "cells": [
    {
      "cell_type": "markdown",
      "metadata": {
        "id": "Oe47EXKFZ4vX"
      },
      "source": [
        "Tracking Objects in Video with Particle Filters\n",
        "==============================================="
      ]
    },
    {
      "cell_type": "markdown",
      "metadata": {
        "id": "BlzHhNs7Z4va"
      },
      "source": [
        "Import libraries"
      ]
    },
    {
      "cell_type": "code",
      "execution_count": 1,
      "metadata": {
        "id": "k97P91zKZ4vb"
      },
      "outputs": [],
      "source": [
        "import numpy as np\n",
        "import cv2\n",
        "\n",
        "# Repeatability\n",
        "np.random.seed(0)\n",
        "\n",
        "VFILENAME = \"walking.mp4\"\n",
        "HEIGHT = 406\n",
        "WIDTH = 722"
      ]
    },
    {
      "cell_type": "markdown",
      "metadata": {
        "id": "jOH8RyEbZ4vc"
      },
      "source": [
        "Load video frames from file"
      ]
    },
    {
      "cell_type": "code",
      "execution_count": 2,
      "metadata": {
        "id": "o-m-UmptZ4vc"
      },
      "outputs": [],
      "source": [
        "def get_frames(filename):\n",
        "  video=cv2.VideoCapture(filename)\n",
        "  \n",
        "  while video.isOpened():\n",
        "    # returning a flag and frame \n",
        "    ret,frame=video.read()\n",
        "    if ret:\n",
        "      yield frame\n",
        "    else:\n",
        "      break\n",
        "  \n",
        "  # Releasing the resources\n",
        "  video.release()\n",
        "  yield None"
      ]
    },
    {
      "cell_type": "markdown",
      "metadata": {
        "id": "Sn2QtRRdZ4vc"
      },
      "source": [
        "Creating a particle cloud"
      ]
    },
    {
      "cell_type": "code",
      "execution_count": null,
      "metadata": {
        "id": "WUhSbUQ9Z4vc"
      },
      "outputs": [],
      "source": [
        "def initialize_particles():\n",
        "    return []"
      ]
    },
    {
      "cell_type": "markdown",
      "metadata": {
        "id": "Qus79-OLZ4vc"
      },
      "source": [
        "Moving particles according to their velocity state"
      ]
    },
    {
      "cell_type": "code",
      "execution_count": null,
      "metadata": {
        "id": "_J-PYAmxZ4vd"
      },
      "outputs": [],
      "source": [
        "def apply_velocity(particles):\n",
        "    return particles"
      ]
    },
    {
      "cell_type": "markdown",
      "metadata": {
        "id": "DSUIkm9-Z4vd"
      },
      "source": [
        "Prevent particles from falling off the edge of the video frame"
      ]
    },
    {
      "cell_type": "code",
      "execution_count": null,
      "metadata": {
        "id": "bAZWpPAFZ4vd"
      },
      "outputs": [],
      "source": [
        "def enforce_edges(particles):\n",
        "    return particles"
      ]
    },
    {
      "cell_type": "markdown",
      "metadata": {
        "id": "QJwoSpTJZ4ve"
      },
      "source": [
        "Measure each particle's quality"
      ]
    },
    {
      "cell_type": "code",
      "execution_count": null,
      "metadata": {
        "id": "t1LsqCTNZ4ve"
      },
      "outputs": [],
      "source": [
        "def compute_errors(particles, frame):\n",
        "    return []"
      ]
    },
    {
      "cell_type": "markdown",
      "metadata": {
        "id": "un5sUGXhZ4ve"
      },
      "source": [
        "Assign weights to the particles based on their quality of match"
      ]
    },
    {
      "cell_type": "code",
      "execution_count": null,
      "metadata": {
        "id": "-eV9X67zZ4ve"
      },
      "outputs": [],
      "source": [
        "def compute_weights(errors):\n",
        "    return []"
      ]
    },
    {
      "cell_type": "markdown",
      "metadata": {
        "id": "GClPfhHTZ4ve"
      },
      "source": [
        "Resample particles according to their weights"
      ]
    },
    {
      "cell_type": "code",
      "execution_count": null,
      "metadata": {
        "id": "A2D0c9dNZ4vf"
      },
      "outputs": [],
      "source": [
        "def resample(particles, weights):\n",
        "    return particles, []"
      ]
    },
    {
      "cell_type": "markdown",
      "metadata": {
        "id": "Y__l7DG2Z4vf"
      },
      "source": [
        "Fuzz the particles"
      ]
    },
    {
      "cell_type": "code",
      "execution_count": null,
      "metadata": {
        "id": "G8zkfV2-Z4vf"
      },
      "outputs": [],
      "source": [
        "def apply_noise(particles):\n",
        "    return particles"
      ]
    },
    {
      "cell_type": "markdown",
      "metadata": {
        "id": "Mijc0JfLZ4vf"
      },
      "source": [
        "Display the video frames"
      ]
    },
    {
      "cell_type": "code",
      "execution_count": null,
      "metadata": {
        "id": "1ov5Dd81Z4vf"
      },
      "outputs": [],
      "source": [
        "def display(frame, particles, location):\n",
        "    return False"
      ]
    },
    {
      "cell_type": "markdown",
      "metadata": {
        "id": "NwKkBL7TZ4vg"
      },
      "source": [
        "Main routine"
      ]
    },
    {
      "cell_type": "code",
      "execution_count": null,
      "metadata": {
        "id": "MNuMynnjZ4vg"
      },
      "outputs": [],
      "source": [
        "particles = initialize_particles()\n",
        "\n",
        "for frame in get_frames(VFILENAME):\n",
        "    if frame is None: break\n",
        "\n",
        "    particles = apply_velocity(particles)\n",
        "    particles = enforce_edges(particles)\n",
        "    errors = compute_errors(particles, frame)\n",
        "    weights = compute_weights(errors)\n",
        "    particles, location = resample(particles, weights)\n",
        "    particles = apply_noise(particles)\n",
        "    terminate = display(frame, particles, location)\n",
        "    if terminate:\n",
        "        break\n",
        "cv2.destroyAllWindows()\n"
      ]
    },
    {
      "cell_type": "code",
      "execution_count": null,
      "metadata": {
        "id": "1G00zXbfZ4vg"
      },
      "outputs": [],
      "source": []
    }
  ],
  "metadata": {
    "kernelspec": {
      "display_name": "Python 3",
      "language": "python",
      "name": "python3"
    },
    "language_info": {
      "codemirror_mode": {
        "name": "ipython",
        "version": 3
      },
      "file_extension": ".py",
      "mimetype": "text/x-python",
      "name": "python",
      "nbconvert_exporter": "python",
      "pygments_lexer": "ipython3",
      "version": "3.6.9"
    },
    "colab": {
      "provenance": []
    }
  },
  "nbformat": 4,
  "nbformat_minor": 0
}